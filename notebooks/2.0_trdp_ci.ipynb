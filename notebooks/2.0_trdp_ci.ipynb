{
 "cells": [
  {
   "cell_type": "code",
   "execution_count": null,
   "id": "initial_id",
   "metadata": {
    "collapsed": true
   },
   "outputs": [],
   "source": [
    ""
   ]
  },
  {
   "metadata": {
    "ExecuteTime": {
     "end_time": "2025-01-26T12:29:04.314339Z",
     "start_time": "2025-01-26T12:29:04.306884Z"
    }
   },
   "cell_type": "code",
   "source": [
    "import json\n",
    "import scipy.stats as st\n",
    "import numpy as np\n",
    "\n",
    "def compute_accuracy_with_ci(predictions, confidence=0.95):\n",
    "    \"\"\"\n",
    "    Compute accuracy and confidence intervals using both Wald and Wilson methods.\n",
    "\n",
    "    :param predictions: List of binary predictions (0 or 1)\n",
    "    :param confidence: Confidence level (default is 0.95 for 95% CI)\n",
    "    :return: Dictionary with accuracy, Wald CI, and Wilson CI\n",
    "    \"\"\"\n",
    "    n = len(predictions)\n",
    "    if n == 0:\n",
    "        raise ValueError(\"Prediction list cannot be empty\")\n",
    "\n",
    "    correct_predictions = sum(predictions)\n",
    "    p_hat = correct_predictions / n\n",
    "\n",
    "    # Z-score for the confidence interval\n",
    "    z = st.norm.ppf(1 - (1 - confidence) / 2)\n",
    "\n",
    "    # Wald Confidence Interval\n",
    "    wald_margin = z * np.sqrt((p_hat * (1 - p_hat)) / n)\n",
    "    wald_ci = (max(0, p_hat - wald_margin), min(1, p_hat + wald_margin))\n",
    "\n",
    "    # Wilson Score Interval\n",
    "    denominator = 1 + (z**2 / n)\n",
    "    center_adjusted_probability = p_hat + (z**2 / (2 * n))\n",
    "    adjusted_standard_error = np.sqrt((p_hat * (1 - p_hat) / n) + (z**2 / (4 * n**2)))\n",
    "\n",
    "    lower_bound = (center_adjusted_probability - z * adjusted_standard_error) / denominator\n",
    "    upper_bound = (center_adjusted_probability + z * adjusted_standard_error) / denominator\n",
    "    wilson_ci = (max(0, lower_bound), min(1, upper_bound))\n",
    "\n",
    "    return {\n",
    "        \"accuracy\": p_hat,\n",
    "        \"wald_ci\": wald_ci,\n",
    "        \"wilson_ci\": wilson_ci\n",
    "    }\n",
    "\n",
    "# Example usage\n",
    "predictions = [0, 1, 0,0, 1, 1, 1, 1, 0, 1, 0, 1, 0, 0, 1, 0, 0, 1, 1, 0, 1, 1, 0, 1, 1,0, 1, 1, 1, 1]\n",
    "result = compute_accuracy_with_ci(predictions)\n",
    "print(json.dumps(result, indent=4))\n"
   ],
   "id": "2a37fbb24b29b8f8",
   "outputs": [
    {
     "name": "stdout",
     "output_type": "stream",
     "text": [
      "{\n",
      "    \"accuracy\": 0.6,\n",
      "    \"wald_ci\": [\n",
      "        0.4246954918846837,\n",
      "        0.7753045081153163\n",
      "    ],\n",
      "    \"wilson_ci\": [\n",
      "        0.4232036025332248,\n",
      "        0.7540937188319814\n",
      "    ]\n",
      "}\n"
     ]
    }
   ],
   "execution_count": 6
  }
 ],
 "metadata": {
  "kernelspec": {
   "display_name": "Python 3",
   "language": "python",
   "name": "python3"
  },
  "language_info": {
   "codemirror_mode": {
    "name": "ipython",
    "version": 2
   },
   "file_extension": ".py",
   "mimetype": "text/x-python",
   "name": "python",
   "nbconvert_exporter": "python",
   "pygments_lexer": "ipython2",
   "version": "2.7.6"
  }
 },
 "nbformat": 4,
 "nbformat_minor": 5
}
