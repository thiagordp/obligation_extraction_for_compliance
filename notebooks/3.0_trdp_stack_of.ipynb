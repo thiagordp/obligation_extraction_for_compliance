{
 "cells": [
  {
   "metadata": {},
   "cell_type": "raw",
   "source": "# Stack the results",
   "id": "1a85f4603f954e20"
  },
  {
   "metadata": {
    "collapsed": true,
    "ExecuteTime": {
     "end_time": "2025-01-27T15:21:26.721184Z",
     "start_time": "2025-01-27T15:21:26.342266Z"
    }
   },
   "cell_type": "code",
   "source": [
    "import pandas as pd\n",
    "\n",
    "DATASETS_PATH = \"../data/validation/results_analysis/\"\n",
    "DATASETS = [\"AI_Act\", \"DSA\", \"GDPR\"]"
   ],
   "id": "initial_id",
   "outputs": [],
   "execution_count": 1
  },
  {
   "metadata": {
    "ExecuteTime": {
     "end_time": "2025-01-27T15:21:28.419514Z",
     "start_time": "2025-01-27T15:21:28.291125Z"
    }
   },
   "cell_type": "code",
   "source": [
    "dfs = []\n",
    "for dataset in DATASETS:\n",
    "    file_path = DATASETS_PATH + f\"obligation_filtering_{dataset}.xlsx\"\n",
    "    df = pd.read_excel(file_path)\n",
    "    dfs.append(df)\n",
    "\n",
    "len(dfs)"
   ],
   "id": "1cfc72ccfd9855ee",
   "outputs": [
    {
     "data": {
      "text/plain": [
       "3"
      ]
     },
     "execution_count": 2,
     "metadata": {},
     "output_type": "execute_result"
    }
   ],
   "execution_count": 2
  },
  {
   "metadata": {
    "ExecuteTime": {
     "end_time": "2025-01-27T15:27:18.626272Z",
     "start_time": "2025-01-27T15:27:18.597991Z"
    }
   },
   "cell_type": "code",
   "source": [
    "file_path = DATASETS_PATH + f\"obligation_filtering_Overall.xlsx\"\n",
    "overall_df = pd.concat(dfs)\n",
    "overall_df.to_excel(file_path, index=False)\n",
    "\n",
    "dataset = \"GDPR\"\n",
    "file_path = DATASETS_PATH + f\"obligation_filtering_{dataset}.xlsx\"\n",
    "overall_df = pd.read_excel(file_path)"
   ],
   "id": "b721217bd75857fb",
   "outputs": [],
   "execution_count": 21
  },
  {
   "metadata": {
    "ExecuteTime": {
     "end_time": "2025-01-27T15:27:19.348538Z",
     "start_time": "2025-01-27T15:27:19.345741Z"
    }
   },
   "cell_type": "code",
   "source": [
    "elements = [\n",
    "    \"Classification\",\n",
    "    \"Justification\"\n",
    "]"
   ],
   "id": "a1a3359fc958d6c",
   "outputs": [],
   "execution_count": 22
  },
  {
   "metadata": {
    "ExecuteTime": {
     "end_time": "2025-01-27T15:27:20.036392Z",
     "start_time": "2025-01-27T15:27:20.022529Z"
    }
   },
   "cell_type": "code",
   "source": [
    "import ast\n",
    "import numpy as np\n",
    "\n",
    "# Assuming final_results is a DataFrame\n",
    "for element in elements:\n",
    "    def safe_mean(value):\n",
    "        \"\"\"Convert string lists to actual lists, then compute mean.\"\"\"\n",
    "        if isinstance(value, str):\n",
    "            try:\n",
    "                value = ast.literal_eval(value)  # Convert string to list\n",
    "            except (SyntaxError, ValueError):\n",
    "                return np.nan  # Return NaN if conversion fails\n",
    "        if isinstance(value, list):\n",
    "            return np.mean(value)\n",
    "        elif pd.notna(value):  # Convert single numbers to float\n",
    "            return float(value)\n",
    "        return np.nan  # Return NaN for missing values\n",
    "\n",
    "    # Apply safe_mean to convert and compute mean\n",
    "    value_mean = overall_df[element].apply(safe_mean)\n",
    "\n",
    "    # Floor the mean and convert to integer\n",
    "    overall_df[element] = value_mean.apply(lambda x: int(np.floor(x)) if pd.notna(x) else np.nan)\n",
    "\n",
    "    # Create Agreement column\n",
    "    overall_df[element + \"_Agreement\"] = value_mean.apply(lambda x: 1 if x in [0, 1] else 0)\n",
    "\n",
    "overall_df.sample(n=10)"
   ],
   "id": "da8bb9f97f3c6ebf",
   "outputs": [
    {
     "data": {
      "text/plain": [
       "             ID ReviewerPair  Classification  Justification  \\\n",
       "3   018.003.001        R1-R4               1              1   \n",
       "16  033.001.002        R2-R3               1              1   \n",
       "25  090.001.001        R2-R3               0              0   \n",
       "5   030.003.001        R1-R4               1              1   \n",
       "14  092.002.001        R1-R4               0              0   \n",
       "6   035.009.001        R1-R4               1              1   \n",
       "7   035.010.001        R1-R4               0              0   \n",
       "8   038.003.002        R1-R4               1              1   \n",
       "22  065.002.002        R2-R3               1              1   \n",
       "23  065.005.002        R2-R3               1              1   \n",
       "\n",
       "    Classification_Agreement  Justification_Agreement  \n",
       "3                          1                        1  \n",
       "16                         1                        1  \n",
       "25                         0                        0  \n",
       "5                          1                        1  \n",
       "14                         0                        0  \n",
       "6                          1                        1  \n",
       "7                          1                        1  \n",
       "8                          1                        1  \n",
       "22                         1                        1  \n",
       "23                         1                        1  "
      ],
      "text/html": [
       "<div>\n",
       "<style scoped>\n",
       "    .dataframe tbody tr th:only-of-type {\n",
       "        vertical-align: middle;\n",
       "    }\n",
       "\n",
       "    .dataframe tbody tr th {\n",
       "        vertical-align: top;\n",
       "    }\n",
       "\n",
       "    .dataframe thead th {\n",
       "        text-align: right;\n",
       "    }\n",
       "</style>\n",
       "<table border=\"1\" class=\"dataframe\">\n",
       "  <thead>\n",
       "    <tr style=\"text-align: right;\">\n",
       "      <th></th>\n",
       "      <th>ID</th>\n",
       "      <th>ReviewerPair</th>\n",
       "      <th>Classification</th>\n",
       "      <th>Justification</th>\n",
       "      <th>Classification_Agreement</th>\n",
       "      <th>Justification_Agreement</th>\n",
       "    </tr>\n",
       "  </thead>\n",
       "  <tbody>\n",
       "    <tr>\n",
       "      <th>3</th>\n",
       "      <td>018.003.001</td>\n",
       "      <td>R1-R4</td>\n",
       "      <td>1</td>\n",
       "      <td>1</td>\n",
       "      <td>1</td>\n",
       "      <td>1</td>\n",
       "    </tr>\n",
       "    <tr>\n",
       "      <th>16</th>\n",
       "      <td>033.001.002</td>\n",
       "      <td>R2-R3</td>\n",
       "      <td>1</td>\n",
       "      <td>1</td>\n",
       "      <td>1</td>\n",
       "      <td>1</td>\n",
       "    </tr>\n",
       "    <tr>\n",
       "      <th>25</th>\n",
       "      <td>090.001.001</td>\n",
       "      <td>R2-R3</td>\n",
       "      <td>0</td>\n",
       "      <td>0</td>\n",
       "      <td>0</td>\n",
       "      <td>0</td>\n",
       "    </tr>\n",
       "    <tr>\n",
       "      <th>5</th>\n",
       "      <td>030.003.001</td>\n",
       "      <td>R1-R4</td>\n",
       "      <td>1</td>\n",
       "      <td>1</td>\n",
       "      <td>1</td>\n",
       "      <td>1</td>\n",
       "    </tr>\n",
       "    <tr>\n",
       "      <th>14</th>\n",
       "      <td>092.002.001</td>\n",
       "      <td>R1-R4</td>\n",
       "      <td>0</td>\n",
       "      <td>0</td>\n",
       "      <td>0</td>\n",
       "      <td>0</td>\n",
       "    </tr>\n",
       "    <tr>\n",
       "      <th>6</th>\n",
       "      <td>035.009.001</td>\n",
       "      <td>R1-R4</td>\n",
       "      <td>1</td>\n",
       "      <td>1</td>\n",
       "      <td>1</td>\n",
       "      <td>1</td>\n",
       "    </tr>\n",
       "    <tr>\n",
       "      <th>7</th>\n",
       "      <td>035.010.001</td>\n",
       "      <td>R1-R4</td>\n",
       "      <td>0</td>\n",
       "      <td>0</td>\n",
       "      <td>1</td>\n",
       "      <td>1</td>\n",
       "    </tr>\n",
       "    <tr>\n",
       "      <th>8</th>\n",
       "      <td>038.003.002</td>\n",
       "      <td>R1-R4</td>\n",
       "      <td>1</td>\n",
       "      <td>1</td>\n",
       "      <td>1</td>\n",
       "      <td>1</td>\n",
       "    </tr>\n",
       "    <tr>\n",
       "      <th>22</th>\n",
       "      <td>065.002.002</td>\n",
       "      <td>R2-R3</td>\n",
       "      <td>1</td>\n",
       "      <td>1</td>\n",
       "      <td>1</td>\n",
       "      <td>1</td>\n",
       "    </tr>\n",
       "    <tr>\n",
       "      <th>23</th>\n",
       "      <td>065.005.002</td>\n",
       "      <td>R2-R3</td>\n",
       "      <td>1</td>\n",
       "      <td>1</td>\n",
       "      <td>1</td>\n",
       "      <td>1</td>\n",
       "    </tr>\n",
       "  </tbody>\n",
       "</table>\n",
       "</div>"
      ]
     },
     "execution_count": 23,
     "metadata": {},
     "output_type": "execute_result"
    }
   ],
   "execution_count": 23
  },
  {
   "metadata": {
    "ExecuteTime": {
     "end_time": "2025-01-27T15:27:20.796947Z",
     "start_time": "2025-01-27T15:27:20.791472Z"
    }
   },
   "cell_type": "code",
   "source": [
    "def calculate_metrics(column, target_df):\n",
    "    \"\"\" Compute classification metrics for a given column (Classification or Justification). \"\"\"\n",
    "    correct_answers = (target_df[column] == 1).sum()  # Correct answers (1 means correct)\n",
    "    wrong_answers = (target_df[column] == 0).sum()  # Wrong answers (0 means wrong)\n",
    "\n",
    "    accuracy = correct_answers / (correct_answers + wrong_answers) if (correct_answers + wrong_answers) > 0 else 0\n",
    "\n",
    "    return {\n",
    "        \"Accuracy\": accuracy\n",
    "    }\n",
    "\n",
    "accuracy_results = {}\n",
    "for element in elements:\n",
    "    element_metrics = calculate_metrics(element, overall_df)\n",
    "    # print(f\"\\n=== Metrics for {element} ===\")\n",
    "\n",
    "    accuracy_results[element] = element_metrics[\"Accuracy\"]\n",
    "    #\n",
    "    # for key, value in element_metrics.items():\n",
    "    #     print(f\"{key}: {value:.4f}\")\n",
    "accuracy_results_agreement = {}\n",
    "for element in elements:\n",
    "    element_metrics = calculate_metrics(element + \"_Agreement\", overall_df)\n",
    "\n",
    "    accuracy_results_agreement[element] = element_metrics[\"Accuracy\"]\n",
    "    # print(f\"\\n=== Agreement Metrics for {element} ===\")\n",
    "    # for key, value in element_metrics.items():\n",
    "    #     print(f\"{key}: {value:.4f}\")\n",
    "\n",
    "# print(\"Accuracy\")\n",
    "# print(json.dumps(accuracy_results, indent=4))\n",
    "#\n",
    "# print(\"Agreement\")\n",
    "# print(json.dumps(accuracy_results_agreement, indent=4))\n",
    "\n",
    "# Create DataFrame\n",
    "df = pd.DataFrame({\n",
    "    \"Lines\": accuracy_results.keys(),\n",
    "    \"Accuracy\": accuracy_results.values(),\n",
    "    \"Agreement\": accuracy_results_agreement.values()\n",
    "})"
   ],
   "id": "f0159ef6cabfa6d6",
   "outputs": [],
   "execution_count": 24
  },
  {
   "metadata": {
    "ExecuteTime": {
     "end_time": "2025-01-27T15:27:21.601580Z",
     "start_time": "2025-01-27T15:27:21.590920Z"
    }
   },
   "cell_type": "code",
   "source": "df.to_excel(f\"../data/validation/results_analysis/obligation_filtering_{dataset}_Accuracy_Agreement.xlsx\", index=False)",
   "id": "922e7cc9bbe322de",
   "outputs": [],
   "execution_count": 25
  }
 ],
 "metadata": {
  "kernelspec": {
   "display_name": "Python 3",
   "language": "python",
   "name": "python3"
  },
  "language_info": {
   "codemirror_mode": {
    "name": "ipython",
    "version": 2
   },
   "file_extension": ".py",
   "mimetype": "text/x-python",
   "name": "python",
   "nbconvert_exporter": "python",
   "pygments_lexer": "ipython2",
   "version": "2.7.6"
  }
 },
 "nbformat": 4,
 "nbformat_minor": 5
}
